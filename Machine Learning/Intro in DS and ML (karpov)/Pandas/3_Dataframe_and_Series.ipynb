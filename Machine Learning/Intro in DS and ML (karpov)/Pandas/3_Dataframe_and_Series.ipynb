{
 "cells": [
  {
   "attachments": {},
   "cell_type": "markdown",
   "metadata": {},
   "source": [
    "## Что такое Pandas DataFrame?\n",
    "В предыдущих примерах мы брали один большой датафрейм и выбирали из него маленький поддатафрейм. Однако мы не всегда будем работать конкретно с датафреймами в Pandas.\n",
    "\n",
    "<br>Сперва импортируем все библиотеки, датафрейм, выделим наш поддатафрейм и изменим ему индексы."
   ]
  },
  {
   "cell_type": "code",
   "execution_count": 1,
   "metadata": {},
   "outputs": [
    {
     "data": {
      "text/html": [
       "<div>\n",
       "<style scoped>\n",
       "    .dataframe tbody tr th:only-of-type {\n",
       "        vertical-align: middle;\n",
       "    }\n",
       "\n",
       "    .dataframe tbody tr th {\n",
       "        vertical-align: top;\n",
       "    }\n",
       "\n",
       "    .dataframe thead th {\n",
       "        text-align: right;\n",
       "    }\n",
       "</style>\n",
       "<table border=\"1\" class=\"dataframe\">\n",
       "  <thead>\n",
       "    <tr style=\"text-align: right;\">\n",
       "      <th></th>\n",
       "      <th>gender</th>\n",
       "      <th>race/ethnicity</th>\n",
       "      <th>parental level of education</th>\n",
       "      <th>lunch</th>\n",
       "      <th>test preparation course</th>\n",
       "      <th>math score</th>\n",
       "      <th>reading score</th>\n",
       "      <th>writing score</th>\n",
       "    </tr>\n",
       "  </thead>\n",
       "  <tbody>\n",
       "    <tr>\n",
       "      <th>Cersei</th>\n",
       "      <td>female</td>\n",
       "      <td>group B</td>\n",
       "      <td>bachelor's degree</td>\n",
       "      <td>standard</td>\n",
       "      <td>none</td>\n",
       "      <td>72</td>\n",
       "      <td>72</td>\n",
       "      <td>74</td>\n",
       "    </tr>\n",
       "    <tr>\n",
       "      <th>Tywin</th>\n",
       "      <td>male</td>\n",
       "      <td>group A</td>\n",
       "      <td>associate's degree</td>\n",
       "      <td>free/reduced</td>\n",
       "      <td>none</td>\n",
       "      <td>47</td>\n",
       "      <td>57</td>\n",
       "      <td>44</td>\n",
       "    </tr>\n",
       "    <tr>\n",
       "      <th>Gregor</th>\n",
       "      <td>male</td>\n",
       "      <td>group C</td>\n",
       "      <td>some college</td>\n",
       "      <td>standard</td>\n",
       "      <td>none</td>\n",
       "      <td>76</td>\n",
       "      <td>78</td>\n",
       "      <td>75</td>\n",
       "    </tr>\n",
       "    <tr>\n",
       "      <th>Joffrey</th>\n",
       "      <td>male</td>\n",
       "      <td>group B</td>\n",
       "      <td>some college</td>\n",
       "      <td>free/reduced</td>\n",
       "      <td>none</td>\n",
       "      <td>40</td>\n",
       "      <td>43</td>\n",
       "      <td>39</td>\n",
       "    </tr>\n",
       "    <tr>\n",
       "      <th>Ilyn Payne</th>\n",
       "      <td>male</td>\n",
       "      <td>group D</td>\n",
       "      <td>high school</td>\n",
       "      <td>free/reduced</td>\n",
       "      <td>completed</td>\n",
       "      <td>64</td>\n",
       "      <td>64</td>\n",
       "      <td>67</td>\n",
       "    </tr>\n",
       "  </tbody>\n",
       "</table>\n",
       "</div>"
      ],
      "text/plain": [
       "            gender race/ethnicity parental level of education         lunch  \\\n",
       "Cersei      female        group B           bachelor's degree      standard   \n",
       "Tywin         male        group A          associate's degree  free/reduced   \n",
       "Gregor        male        group C                some college      standard   \n",
       "Joffrey       male        group B                some college  free/reduced   \n",
       "Ilyn Payne    male        group D                 high school  free/reduced   \n",
       "\n",
       "           test preparation course  math score  reading score  writing score  \n",
       "Cersei                        none          72             72             74  \n",
       "Tywin                         none          47             57             44  \n",
       "Gregor                        none          76             78             75  \n",
       "Joffrey                       none          40             43             39  \n",
       "Ilyn Payne               completed          64             64             67  "
      ]
     },
     "execution_count": 1,
     "metadata": {},
     "output_type": "execute_result"
    }
   ],
   "source": [
    "import pandas as pd\n",
    "import numpy as np\n",
    "\n",
    "students_performance = pd.read_csv(\"../../../Datasets/StudentsPerformance.csv\")\n",
    "students_performance_with_names = students_performance.iloc[[0, 3, 4, 7, 8]]\n",
    "students_performance_with_names.index = [\"Cersei\", \"Tywin\", \"Gregor\", \"Joffrey\", \"Ilyn Payne\"]\n",
    "students_performance_with_names"
   ]
  },
  {
   "attachments": {},
   "cell_type": "markdown",
   "metadata": {},
   "source": [
    "Разберемся, что вообще такое датафрейм в Pandas. Выберем все наблюдения, которые хранятся у нас в первой колонке:"
   ]
  },
  {
   "cell_type": "code",
   "execution_count": 2,
   "metadata": {},
   "outputs": [
    {
     "data": {
      "text/plain": [
       "Cersei        female\n",
       "Tywin           male\n",
       "Gregor          male\n",
       "Joffrey         male\n",
       "Ilyn Payne      male\n",
       "Name: gender, dtype: object"
      ]
     },
     "execution_count": 2,
     "metadata": {},
     "output_type": "execute_result"
    }
   ],
   "source": [
    "students_performance_with_names.iloc[:, 0]"
   ]
  },
  {
   "attachments": {},
   "cell_type": "markdown",
   "metadata": {},
   "source": [
    "Казалось бы, мы должны были получить датафрейм с одной первой колонкой. Однако как можно заметить по результату выше, мы получили не совсем датафрейм - он не похож по оформлению с тем, с чем мы работали ранее.\n",
    "\n",
    "<br>И это не случайно. Взглянем на тип полученных данных:"
   ]
  },
  {
   "cell_type": "code",
   "execution_count": 3,
   "metadata": {},
   "outputs": [
    {
     "data": {
      "text/plain": [
       "pandas.core.series.Series"
      ]
     },
     "execution_count": 3,
     "metadata": {},
     "output_type": "execute_result"
    }
   ],
   "source": [
    "type(students_performance_with_names.iloc[:, 0])"
   ]
  },
  {
   "attachments": {},
   "cell_type": "markdown",
   "metadata": {},
   "source": [
    "Видим, что мы получили тип \"pandas.core.series.Series\", достаточно ключевой для понимания того, что вообще такое Pandas DataFrame.\n",
    "<br>По определению с документации, Серия в пандас - это одноразмерный массив с лейблами (именами).\n",
    "<br>Docs: https://pandas.pydata.org/docs/reference/api/pandas.Series.html\n",
    "\n",
    "<br> Создадим pandas.Series:"
   ]
  },
  {
   "cell_type": "code",
   "execution_count": 4,
   "metadata": {},
   "outputs": [
    {
     "data": {
      "text/plain": [
       "0    1\n",
       "1    2\n",
       "2    3\n",
       "dtype: int64"
      ]
     },
     "execution_count": 4,
     "metadata": {},
     "output_type": "execute_result"
    }
   ],
   "source": [
    "pd.Series([1, 2, 3])"
   ]
  },
  {
   "attachments": {},
   "cell_type": "markdown",
   "metadata": {},
   "source": [
    "Очень похоже на то, что мы получили выше, правда? =)\n",
    "Однако теперь лейблы значений в серии совпадают с их порядковым номером: 0, 1 и 2.\n",
    "\n",
    "<br>Эти лейблы мы можем сделать более содержательными, например так:"
   ]
  },
  {
   "cell_type": "code",
   "execution_count": 5,
   "metadata": {},
   "outputs": [
    {
     "data": {
      "text/plain": [
       "Cersei    1\n",
       "Tywin     2\n",
       "Gregor    3\n",
       "dtype: int64"
      ]
     },
     "execution_count": 5,
     "metadata": {},
     "output_type": "execute_result"
    }
   ],
   "source": [
    "pd.Series([1, 2, 3], [\"Cersei\", \"Tywin\", \"Gregor\",])"
   ]
  },
  {
   "attachments": {},
   "cell_type": "markdown",
   "metadata": {},
   "source": [
    "Теперь, мы можем сделать следующий вывод:\n",
    "<br>**pandas.Dataframe - это не просто табличка, а объединенные вместе pandas.Series.**\n",
    "<br>Каждая колонка - это серия Pandas, которая имеет некоторый ключ в датафрейм и имеет имя, совпадающее с именем некоторой переменной (например \"gender\").\n",
    "\n",
    "Применим данные знания на практике и создадим pandas.DataFrame из двух pandas.Series:"
   ]
  },
  {
   "cell_type": "code",
   "execution_count": 6,
   "metadata": {},
   "outputs": [
    {
     "data": {
      "text/html": [
       "<div>\n",
       "<style scoped>\n",
       "    .dataframe tbody tr th:only-of-type {\n",
       "        vertical-align: middle;\n",
       "    }\n",
       "\n",
       "    .dataframe tbody tr th {\n",
       "        vertical-align: top;\n",
       "    }\n",
       "\n",
       "    .dataframe thead th {\n",
       "        text-align: right;\n",
       "    }\n",
       "</style>\n",
       "<table border=\"1\" class=\"dataframe\">\n",
       "  <thead>\n",
       "    <tr style=\"text-align: right;\">\n",
       "      <th></th>\n",
       "      <th>Серия_1</th>\n",
       "      <th>Серия_2</th>\n",
       "    </tr>\n",
       "  </thead>\n",
       "  <tbody>\n",
       "    <tr>\n",
       "      <th>Cersei</th>\n",
       "      <td>1</td>\n",
       "      <td>4</td>\n",
       "    </tr>\n",
       "    <tr>\n",
       "      <th>Tywin</th>\n",
       "      <td>2</td>\n",
       "      <td>5</td>\n",
       "    </tr>\n",
       "    <tr>\n",
       "      <th>Gregor</th>\n",
       "      <td>3</td>\n",
       "      <td>6</td>\n",
       "    </tr>\n",
       "  </tbody>\n",
       "</table>\n",
       "</div>"
      ],
      "text/plain": [
       "        Серия_1  Серия_2\n",
       "Cersei        1        4\n",
       "Tywin         2        5\n",
       "Gregor        3        6"
      ]
     },
     "execution_count": 6,
     "metadata": {},
     "output_type": "execute_result"
    }
   ],
   "source": [
    "series_1 = pd.Series([1, 2, 3], [\"Cersei\", \"Tywin\", \"Gregor\",])\n",
    "series_2 = pd.Series([4, 5, 6], [\"Cersei\", \"Tywin\", \"Gregor\",])\n",
    "\n",
    "pd.DataFrame({\"Серия_1\": series_1, \"Серия_2\": series_2})"
   ]
  },
  {
   "attachments": {},
   "cell_type": "markdown",
   "metadata": {},
   "source": [
    "А что будет, если мы попробуем обратиться к датафрейму по названию переменной (колонки)."
   ]
  },
  {
   "cell_type": "code",
   "execution_count": 7,
   "metadata": {},
   "outputs": [
    {
     "data": {
      "text/plain": [
       "Cersei        female\n",
       "Tywin           male\n",
       "Gregor          male\n",
       "Joffrey         male\n",
       "Ilyn Payne      male\n",
       "Name: gender, dtype: object"
      ]
     },
     "execution_count": 7,
     "metadata": {},
     "output_type": "execute_result"
    }
   ],
   "source": [
    "students_performance_with_names[\"gender\"] \n",
    "# Возьми то, что лежит по значению \"gender\". \n",
    "# А по значению \"gender\" лежит серия Pandas."
   ]
  },
  {
   "attachments": {},
   "cell_type": "markdown",
   "metadata": {},
   "source": [
    "Правильно! Мы получим pandas.Series.\n",
    "<br>А если обратимся вот так вот (добавим слой со скобками), то получим pandas.DataFrame:"
   ]
  },
  {
   "cell_type": "code",
   "execution_count": 8,
   "metadata": {},
   "outputs": [
    {
     "data": {
      "text/html": [
       "<div>\n",
       "<style scoped>\n",
       "    .dataframe tbody tr th:only-of-type {\n",
       "        vertical-align: middle;\n",
       "    }\n",
       "\n",
       "    .dataframe tbody tr th {\n",
       "        vertical-align: top;\n",
       "    }\n",
       "\n",
       "    .dataframe thead th {\n",
       "        text-align: right;\n",
       "    }\n",
       "</style>\n",
       "<table border=\"1\" class=\"dataframe\">\n",
       "  <thead>\n",
       "    <tr style=\"text-align: right;\">\n",
       "      <th></th>\n",
       "      <th>gender</th>\n",
       "    </tr>\n",
       "  </thead>\n",
       "  <tbody>\n",
       "    <tr>\n",
       "      <th>Cersei</th>\n",
       "      <td>female</td>\n",
       "    </tr>\n",
       "    <tr>\n",
       "      <th>Tywin</th>\n",
       "      <td>male</td>\n",
       "    </tr>\n",
       "    <tr>\n",
       "      <th>Gregor</th>\n",
       "      <td>male</td>\n",
       "    </tr>\n",
       "    <tr>\n",
       "      <th>Joffrey</th>\n",
       "      <td>male</td>\n",
       "    </tr>\n",
       "    <tr>\n",
       "      <th>Ilyn Payne</th>\n",
       "      <td>male</td>\n",
       "    </tr>\n",
       "  </tbody>\n",
       "</table>\n",
       "</div>"
      ],
      "text/plain": [
       "            gender\n",
       "Cersei      female\n",
       "Tywin         male\n",
       "Gregor        male\n",
       "Joffrey       male\n",
       "Ilyn Payne    male"
      ]
     },
     "execution_count": 8,
     "metadata": {},
     "output_type": "execute_result"
    }
   ],
   "source": [
    "students_performance_with_names[[\"gender\"]]\n",
    "# А тут, из всего датафрейма достань нам только колонку\n",
    "# по имени \"gender\""
   ]
  },
  {
   "attachments": {},
   "cell_type": "markdown",
   "metadata": {},
   "source": [
    "Соответственно и размер данных структур отличается:"
   ]
  },
  {
   "cell_type": "code",
   "execution_count": 9,
   "metadata": {},
   "outputs": [
    {
     "data": {
      "text/plain": [
       "(5,)"
      ]
     },
     "execution_count": 9,
     "metadata": {},
     "output_type": "execute_result"
    }
   ],
   "source": [
    "students_performance_with_names[\"gender\"].shape"
   ]
  },
  {
   "cell_type": "code",
   "execution_count": 10,
   "metadata": {},
   "outputs": [
    {
     "data": {
      "text/plain": [
       "(5, 1)"
      ]
     },
     "execution_count": 10,
     "metadata": {},
     "output_type": "execute_result"
    }
   ],
   "source": [
    "students_performance_with_names[[\"gender\"]].shape"
   ]
  }
 ],
 "metadata": {
  "kernelspec": {
   "display_name": "Python 3",
   "language": "python",
   "name": "python3"
  },
  "language_info": {
   "codemirror_mode": {
    "name": "ipython",
    "version": 3
   },
   "file_extension": ".py",
   "mimetype": "text/x-python",
   "name": "python",
   "nbconvert_exporter": "python",
   "pygments_lexer": "ipython3",
   "version": "3.11.3"
  },
  "orig_nbformat": 4
 },
 "nbformat": 4,
 "nbformat_minor": 2
}
