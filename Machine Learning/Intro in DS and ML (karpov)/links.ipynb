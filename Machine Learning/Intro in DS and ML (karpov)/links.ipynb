{
 "cells": [
  {
   "attachments": {},
   "cell_type": "markdown",
   "metadata": {},
   "source": [
    "Итак, надеемся, что пройдя этот курс вы познакомились с анализом данных с помощью питона, поняли как работают Decision Tree и Random Forest и просто узнали что-то новое. Мир машинного обучения велик, и каждый год придумывают новые методы (не говоря уже о новых библиотеках/фрэймворках, которые чем-то лучше а иногда хуже существовавших до этого). Наш курс представляет собой лишь небольшое введение в эту чудесную область, которую, мы надеемся, вы будете изучать дальше. Для этого, приведём здесь некоторые полезные курсы и книги.\n",
    "\n",
    "Курсы:\n",
    "- [Курс по Data Science от UCSD](https://learning.edx.org/course/course-v1:UCSanDiegoX+DSE200x+2T2017/home) - это линейка из 4-ёх курсов, затрагивающая DS вообще, теорию вероятностей, машинное обучение и работу с большими объёмами данных\n",
    "- [Курс по линейной алгебре](https://learning.edx.org/course/course-v1:UTAustinX+UT.5.05x+2T2017/home) - теоретический курс по линалу, базовые знания которого нужны для нейронных сетей\n",
    "- [Курс по ML раз](https://learning.edx.org/course/course-v1:UCSanDiegoX+DS220x+1T2018/home)\n",
    "- [Курс по ML два](https://learning.edx.org/course/course-v1:ColumbiaX+CSMM.102x+2T2017/home)\n",
    "- [Знаменитый курс по ML от Andrew Ng](https://www.coursera.org/learn/machine-learning)\n",
    "- [Линейка курсов по Deep Learning от Andrew Ng](https://www.coursera.org/specializations/deep-learning)\n",
    "- [Курс от ODS](https://mlcourse.ai/book/index.html)\n",
    "- [Ещё один крутой курс](https://www.fast.ai/)\n",
    "\n",
    "Книги:\n",
    "- [Книга по применению sklearn для ML](https://www.oreilly.com/library/view/introduction-to-machine/9781449369880/)\n",
    "- [Книга по пандасу от его создателя](https://www.amazon.com/Python-Data-Analysis-Wrangling-IPython-ebook/dp/B075X4LT6K)\n",
    "- [Книга с пандасовскими рецептами](https://github.com/iamseancheney/pythonbooks/blob/master/Pandas%20Cookbook%20%EF%BC%8DTheodore%20Petrou.pdf)\n",
    "- [Ещё книга о пандасе и ML](https://jakevdp.github.io/PythonDataScienceHandbook/)\n",
    "- [Теория](https://hastie.su.domains/Papers/ESLII.pdf)"
   ]
  },
  {
   "attachments": {},
   "cell_type": "markdown",
   "metadata": {},
   "source": [
    "Небольшой список интересных достижений машинного обучения\n",
    "1. [SC2](https://www.youtube.com/watch?v=PFMRDm_H9Sg)\n",
    "2. [Привет, Чёрное зеркало!](https://medium.com/@TebbaVonMathenstien/deep-fakes-and-the-future-of-propaganda-18a257026571)\n",
    "3. [Исследования](https://towardsdatascience.com/machine-learning-is-the-future-of-cancer-prediction-e4d28e7e6dfa) для постановки диагноза у раковых больных\n",
    "4. [Покер](https://www.deepstack.ai/)\n",
    "5. [Рисование](https://deepdreamgenerator.com/)"
   ]
  },
  {
   "attachments": {},
   "cell_type": "markdown",
   "metadata": {},
   "source": [
    "Помимо sklearn есть множество других библиотек для ML со своими возможностями. Некоторые из них сложнее, некоторые проще.\n",
    "\n",
    "<img src=\"https://ucarecdn.com/2ce9863f-f17b-4ac3-b139-b5b3f7adc2a1/\">\n",
    "\n",
    "Краткое перечисление:\n",
    "1. [pytorch](https://pytorch.org/)\n",
    "2. [keras](https://keras.io/)\n",
    "3. [theano](http://deeplearning.net/software/theano/introduction.html)\n",
    "4. [TensorFlow](https://www.tensorflow.org/)\n",
    "5. [Caffe](https://caffe.berkeleyvision.org/)\n",
    "6. [xgboost](https://xgboost.readthedocs.io/en/latest/)"
   ]
  },
  {
   "attachments": {},
   "cell_type": "markdown",
   "metadata": {},
   "source": [
    "Ну а также практикуйтесь, ведь для этого есть отличная площадка - [Kaggle](https://www.kaggle.com/). Там содержится множество датасэтов, соревнований по машинному обучению с призами и kernel'ы, в которых можно узнать много нового.\n",
    "\n",
    "А также [ссылка](https://www.dataquest.io/blog/free-datasets-for-projects/) на перечень ресурсов с данными, которые можно использовать.\n"
   ]
  }
 ],
 "metadata": {
  "kernelspec": {
   "display_name": "Python 3",
   "language": "python",
   "name": "python3"
  },
  "language_info": {
   "name": "python",
   "version": "3.11.3"
  },
  "orig_nbformat": 4
 },
 "nbformat": 4,
 "nbformat_minor": 2
}
